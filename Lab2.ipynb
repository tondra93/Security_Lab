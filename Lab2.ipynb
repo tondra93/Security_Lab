{
  "nbformat": 4,
  "nbformat_minor": 0,
  "metadata": {
    "colab": {
      "provenance": []
    },
    "kernelspec": {
      "name": "python3",
      "display_name": "Python 3"
    },
    "language_info": {
      "name": "python"
    }
  },
  "cells": [
    {
      "cell_type": "markdown",
      "source": [
        "A python program for ceaser cipher"
      ],
      "metadata": {
        "id": "CJ8mxvmbm7HP"
      }
    },
    {
      "cell_type": "code",
      "source": [
        "def encrypt(text,s):\n",
        "  result=\"\"\n",
        "\n",
        "#traverse the text\n",
        "  for i in range(len(text)):\n",
        "    char=text[i]\n",
        "\n",
        "  #encrypt upper case characters\n",
        "    if(char.isupper()):\n",
        "      result+=chr((ord(char)+ s-65) % 26+ 65)\n",
        "\n",
        "  #necrypt lower case characters\n",
        "    else:\n",
        "      result+=chr((ord(char)+s-97) % 26+97)\n",
        "\n",
        "  return result\n",
        "\n",
        "\n",
        "  #check the above function\n",
        "text = \"ftqzqjfwuxxqdmbbiuxxoaynuzqoxagpymotuzqxqmdzuzsuafmzpnxaowotmuz\"\n",
        "s = 14\n",
        "print (\"Text : \" + text)\n",
        "print (\"Shift : \" + str(s))\n",
        "print (\"Cipher: \" + encrypt(text,s))"
      ],
      "metadata": {
        "id": "gprt3K5mnAhn",
        "colab": {
          "base_uri": "https://localhost:8080/"
        },
        "outputId": "6002d771-e9ce-44e7-ab49-b447b67d6a20"
      },
      "execution_count": 1,
      "outputs": [
        {
          "output_type": "stream",
          "name": "stdout",
          "text": [
            "Text : ftqzqjfwuxxqdmbbiuxxoaynuzqoxagpymotuzqxqmdzuzsuafmzpnxaowotmuz\n",
            "Shift : 14\n",
            "Cipher: thenextkillerappwillcombinecloudmachinelearningiotandblockchain\n"
          ]
        }
      ]
    }
  ]
}